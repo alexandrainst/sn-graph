{
 "cells": [
  {
   "cell_type": "markdown",
   "metadata": {},
   "source": [
    "## A 3D Demo\n",
    "\n",
    "The notebook shows how to extract SN-Graph out of a 3D volume."
   ]
  },
  {
   "cell_type": "code",
   "execution_count": null,
   "metadata": {},
   "outputs": [],
   "source": [
    "import trimesh\n",
    "import numpy as np\n",
    "from sn_graph import create_sn_graph, draw_sn_graph, visualize_3d_graph"
   ]
  },
  {
   "cell_type": "code",
   "execution_count": null,
   "metadata": {},
   "outputs": [],
   "source": [
    "mesh = trimesh.load(\"../assets/cup_0085.off\")\n",
    "print(\"Displaying original mesh...\")\n",
    "mesh.show()"
   ]
  },
  {
   "cell_type": "code",
   "execution_count": null,
   "metadata": {},
   "outputs": [],
   "source": [
    "# local voxelise allows to fill the inside of the mesh with positive values which is needed for sdf computation\n",
    "voxels = trimesh.voxel.creation.local_voxelize(\n",
    "    mesh, point=(0, 0, 0), radius=300, pitch=0.5, fill=True\n",
    ")\n",
    "print(\"Displaying voxelized mesh...\")\n",
    "voxels.show()"
   ]
  },
  {
   "cell_type": "code",
   "execution_count": null,
   "metadata": {},
   "outputs": [],
   "source": [
    "binary_volume = np.array(voxels.matrix.astype(int))\n",
    "\n",
    "graph = create_sn_graph(binary_volume, return_sdf=True, minimal_sphere_radius=2)\n",
    "graph_volume = draw_sn_graph(*graph)\n",
    "\n",
    "print(f\"No vertices: {len(graph[0])}.\")\n",
    "print(f\"No edges: {len(graph[1])}.\")"
   ]
  },
  {
   "cell_type": "code",
   "execution_count": null,
   "metadata": {},
   "outputs": [],
   "source": [
    "graph_voxels = trimesh.voxel.VoxelGrid(graph_volume).as_boxes()\n",
    "print(\"Displaying voxelized graph...\")\n",
    "graph_voxels.show()"
   ]
  },
  {
   "cell_type": "code",
   "execution_count": null,
   "metadata": {},
   "outputs": [],
   "source": [
    "scene = visualize_3d_graph(*graph)\n",
    "print(\"Displaying graph with spheres (as a 3D mesh)...\")\n",
    "scene.show()"
   ]
  },
  {
   "cell_type": "code",
   "execution_count": null,
   "metadata": {},
   "outputs": [],
   "source": [
    "vertices, edges, _ = graph\n",
    "scene = visualize_3d_graph(vertices, edges)\n",
    "print(\"Displaying graph without spheres (as a 3D mesh)...\")\n",
    "scene.show()"
   ]
  }
 ],
 "metadata": {
  "kernelspec": {
   "display_name": "sn-graph-5qBlOgtN-py3.11",
   "language": "python",
   "name": "python3"
  },
  "language_info": {
   "codemirror_mode": {
    "name": "ipython",
    "version": 3
   },
   "file_extension": ".py",
   "mimetype": "text/x-python",
   "name": "python",
   "nbconvert_exporter": "python",
   "pygments_lexer": "ipython3",
   "version": "3.11.7"
  }
 },
 "nbformat": 4,
 "nbformat_minor": 2
}
