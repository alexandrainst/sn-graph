{
 "cells": [
  {
   "cell_type": "markdown",
   "metadata": {},
   "source": [
    "## A 3d Demo\n",
    "\n",
    "The notebook shows how to extract SN-Graph out of a 3D volume."
   ]
  },
  {
   "cell_type": "code",
   "execution_count": null,
   "metadata": {},
   "outputs": [],
   "source": [
    "import trimesh\n",
    "import numpy as np\n",
    "from sn_graph import create_sn_graph, draw_sn_graph"
   ]
  },
  {
   "cell_type": "code",
   "execution_count": null,
   "metadata": {},
   "outputs": [],
   "source": [
    "mesh = trimesh.load(\"../assets/cup_0085.off\")\n",
    "print(\"Displaying original mesh...\")\n",
    "mesh.show()"
   ]
  },
  {
   "cell_type": "code",
   "execution_count": null,
   "metadata": {},
   "outputs": [],
   "source": [
    "# local voxelise allows to fill the inside of the mesh with positive values which is needed for sdf computation\n",
    "voxels = trimesh.voxel.creation.local_voxelize(\n",
    "    mesh, point=(0, 0, 0), radius=300, pitch=0.5, fill=True\n",
    ")\n",
    "print(\"Displaying voxelized mesh...\")\n",
    "voxels.show()"
   ]
  },
  {
   "cell_type": "code",
   "execution_count": null,
   "metadata": {},
   "outputs": [],
   "source": [
    "binary_volume = np.array(voxels.matrix.astype(int))\n",
    "\n",
    "graph = create_sn_graph(binary_volume, return_sdf=True, minimal_sphere_radius=2)\n",
    "graph_volume = draw_sn_graph(*graph, draw_circles=True)\n",
    "\n",
    "print(f\"No vertices: {len(graph[0])}.\")\n",
    "print(f\"No edges: {len(graph[1])}.\")"
   ]
  },
  {
   "cell_type": "code",
   "execution_count": null,
   "metadata": {},
   "outputs": [],
   "source": [
    "graph_voxels = trimesh.voxel.VoxelGrid(graph_volume).as_boxes()\n",
    "print(\"Displaying voxelized graph...\")\n",
    "graph_voxels.show()"
   ]
  },
  {
   "cell_type": "code",
   "execution_count": null,
   "metadata": {},
   "outputs": [],
   "source": [
    "def visualize_3d_graph(\n",
    "    vertices: list, edges: list, sdf_array: np.ndarray\n",
    ") -> trimesh.scene.scene.Scene:\n",
    "    \"\"\"\n",
    "    Visualize a graph with vertices, edges, and SDF spheres\n",
    "\n",
    "    Parameters:\n",
    "    -----------\n",
    "    vertices : list of coordinate tuples [(x1,y1,z1), (x2,y2,z2), ...]\n",
    "    edges : list of tuples of coordinates for start and end of edges [((x1,y1,z1), (x2,y2,z2)), ...]\n",
    "    sdf_array : array that can be queried at vertex coordinates to get radius\n",
    "    \"\"\"\n",
    "    # Create a scene\n",
    "    scene = trimesh.Scene()\n",
    "    # Add edges directly as line segments - blue and thick\n",
    "    for start_coord, end_coord in edges:\n",
    "        # Create a line segment between start and end\n",
    "        line = trimesh.creation.cylinder(\n",
    "            radius=0.03,  # Thick lines\n",
    "            segment=[start_coord, end_coord],\n",
    "        )\n",
    "        line.visual.face_colors = [0, 0, 255, 255]  # Blue\n",
    "        scene.add_geometry(line)\n",
    "\n",
    "    # Add spheres and vertex points for each vertex\n",
    "    for v in vertices:\n",
    "        # Get radius from SDF array\n",
    "        radius = sdf_array[tuple(v)]\n",
    "\n",
    "        # Create a smooth sphere based on SDF value\n",
    "        sphere = trimesh.creation.icosphere(radius=radius, subdivisions=2)\n",
    "        sphere.visual.face_colors = [255, 0, 0, 255]  # Red\n",
    "        sphere.apply_translation(v)\n",
    "        scene.add_geometry(sphere)\n",
    "\n",
    "        # Add small vertex points\n",
    "        point = trimesh.creation.icosphere(radius=0.02)\n",
    "        point.visual.face_colors = [0, 0, 0, 255]  # Black\n",
    "        point.apply_translation(v)\n",
    "        scene.add_geometry(point)\n",
    "\n",
    "    return scene\n",
    "\n",
    "\n",
    "scene = visualize_3d_graph(*graph)\n",
    "print(\"Displaying graph (as a 3D mesh)...\")\n",
    "scene.show()"
   ]
  }
 ],
 "metadata": {
  "kernelspec": {
   "display_name": "sn-graph-5qBlOgtN-py3.11",
   "language": "python",
   "name": "python3"
  },
  "language_info": {
   "codemirror_mode": {
    "name": "ipython",
    "version": 3
   },
   "file_extension": ".py",
   "mimetype": "text/x-python",
   "name": "python",
   "nbconvert_exporter": "python",
   "pygments_lexer": "ipython3",
   "version": "3.11.7"
  }
 },
 "nbformat": 4,
 "nbformat_minor": 2
}
