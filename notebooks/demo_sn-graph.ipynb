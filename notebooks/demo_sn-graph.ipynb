{
 "cells": [
  {
   "cell_type": "code",
   "execution_count": null,
   "metadata": {},
   "outputs": [],
   "source": [
    "import sys\n",
    "sys.path.append(\"../src\")"
   ]
  },
  {
   "cell_type": "code",
   "execution_count": null,
   "metadata": {},
   "outputs": [],
   "source": [
    "import sn_graph as sn \n",
    "from skimage import io\n",
    "import numpy as np\n",
    "import skfmm\n",
    "from skimage.filters import gaussian as gaussian_blur\n",
    "from skimage.filters import threshold_local\n",
    "import matplotlib.pyplot as plt\n"
   ]
  },
  {
   "cell_type": "code",
   "execution_count": null,
   "metadata": {},
   "outputs": [],
   "source": [
    "def blur_and_threshold(image: np.ndarray, blur: bool=False, sigma: float=1, block_size: int=50, offset: float=0):\n",
    "    im=image.copy()\n",
    "\n",
    "    if blur:\n",
    "        im=gaussian_blur(im, sigma=sigma)\n",
    "\n",
    "    local_thresh = threshold_local(im, block_size, offset=offset)\n",
    "    binary_local = im > local_thresh\n",
    "\n",
    "    im=binary_local.astype(float)\n",
    "    return im\n"
   ]
  },
  {
   "cell_type": "code",
   "execution_count": null,
   "metadata": {},
   "outputs": [],
   "source": [
    "\n",
    "# Read and process image\n",
    "full_im = io.imread('../tests/leaf.jpeg')\n",
    "im = full_im[:,:,0]\n",
    "processed_im = blur_and_threshold(im, blur=True, sigma=1, block_size=35, offset=0)\n",
    "\n",
    "spheres_centres, edges = sn.create_SN_graph(image=processed_im, max_num_vertices=300, edge_threshold=0.8, \n",
    "                                          max_edge_length=200, minimal_sphere_radius=5)\n",
    "\n",
    "\n",
    "\n",
    "sdf_array = skfmm.distance(processed_im, dx=1)\n",
    "graph_im = sn.draw_graph_on_top_of_SDF(sdf_array, spheres_centres, edges)\n",
    "\n",
    "# Create figure with two subplots side by side\n",
    "fig, (ax1, ax2) = plt.subplots(1, 2, figsize=(14, 7))\n",
    "\n",
    "# Plot binary image\n",
    "ax1.imshow(processed_im, cmap='binary')\n",
    "ax1.set_title('Binary Image')\n",
    "\n",
    "# Plot SDF with graph\n",
    "ax2.imshow(graph_im, cmap='gray')\n",
    "ax2.set_title('Graph on SDF')\n",
    "\n",
    "# Print graph statistics in text below\n",
    "print(f\"\"\"\n",
    "Graph Statistics:\n",
    "Number of nodes: {len(spheres_centres)}\n",
    "Number of edges: {len(edges)}\n",
    "\"\"\")\n",
    "\n",
    "# Adjust layout and display\n",
    "plt.tight_layout()\n",
    "plt.show()\n",
    "\n"
   ]
  }
 ],
 "metadata": {
  "kernelspec": {
   "display_name": "sn-graph-5qBlOgtN-py3.11",
   "language": "python",
   "name": "python3"
  },
  "language_info": {
   "codemirror_mode": {
    "name": "ipython",
    "version": 3
   },
   "file_extension": ".py",
   "mimetype": "text/x-python",
   "name": "python",
   "nbconvert_exporter": "python",
   "pygments_lexer": "ipython3",
   "version": "3.11.7"
  }
 },
 "nbformat": 4,
 "nbformat_minor": 2
}
