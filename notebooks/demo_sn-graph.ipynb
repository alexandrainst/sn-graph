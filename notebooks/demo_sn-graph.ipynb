{
 "cells": [
  {
   "cell_type": "markdown",
   "metadata": {},
   "source": [
    "# Getting started \n",
    "\n",
    "The notebook presents basic usage of the algorithm."
   ]
  },
  {
   "cell_type": "code",
   "execution_count": null,
   "metadata": {},
   "outputs": [],
   "source": [
    "import sys\n",
    "\n",
    "sys.path.append(\"../src\")"
   ]
  },
  {
   "cell_type": "code",
   "execution_count": null,
   "metadata": {},
   "outputs": [],
   "source": [
    "import sn_graph as sn\n",
    "from skimage import io\n",
    "import numpy as np\n",
    "from skimage.filters import gaussian as gaussian_blur\n",
    "from skimage.filters import threshold_local\n",
    "import matplotlib.pyplot as plt"
   ]
  },
  {
   "cell_type": "code",
   "execution_count": null,
   "metadata": {},
   "outputs": [],
   "source": [
    "def blur_and_threshold(\n",
    "    image: np.ndarray,\n",
    "    blur: bool = False,\n",
    "    sigma: float = 1,\n",
    "    block_size: int = 50,\n",
    "    offset: float = 0,\n",
    "):\n",
    "    im = image.copy()\n",
    "\n",
    "    if blur:\n",
    "        im = gaussian_blur(im, sigma=sigma)\n",
    "\n",
    "    local_thresh = threshold_local(im, block_size, offset=offset)\n",
    "    binary_local = im > local_thresh\n",
    "\n",
    "    im = binary_local.astype(float)\n",
    "    return im"
   ]
  },
  {
   "cell_type": "code",
   "execution_count": null,
   "metadata": {},
   "outputs": [],
   "source": [
    "# Read and process image\n",
    "full_im = io.imread(\"../tests/letter_B.png\")\n",
    "# full_im = io.imread('../tests/leaf.jpeg')\n",
    "\n",
    "\n",
    "im = full_im[:, :, 0]\n",
    "\n",
    "\n",
    "processed_im = blur_and_threshold(im, blur=True, sigma=1, block_size=35, offset=0)\n",
    "\n",
    "\n",
    "spheres_centers, edges, sdf_array = sn.create_SN_graph(\n",
    "    image=processed_im,\n",
    "    max_num_vertices=10,\n",
    "    edge_threshold=0.95,\n",
    "    max_edge_length=-1,\n",
    "    minimal_sphere_radius=10,\n",
    "    return_sdf=True,\n",
    ")\n",
    "\n",
    "\n",
    "graph_im = sn.draw_graph_on_top_of_SDF(sdf_array, spheres_centers, edges)\n",
    "\n",
    "# Create figure with two subplots side by side\n",
    "fig, (ax1, ax2) = plt.subplots(1, 2, figsize=(14, 7))\n",
    "\n",
    "# Plot binary image\n",
    "ax1.imshow(processed_im, cmap=\"binary\")\n",
    "ax1.set_title(\"Binary Image\")\n",
    "\n",
    "# Plot SDF with graph\n",
    "ax2.imshow(graph_im, cmap=\"gray\")\n",
    "ax2.set_title(\"SN-Graph\")\n",
    "\n",
    "# Print graph statistics in text below\n",
    "print(f\"\"\"\n",
    "Graph Statistics:\n",
    "Number of nodes: {len(spheres_centers)}\n",
    "Number of edges: {len(edges)}\n",
    "\"\"\")\n",
    "\n",
    "# Adjust layout and display\n",
    "plt.tight_layout()\n",
    "plt.show()"
   ]
  },
  {
   "cell_type": "code",
   "execution_count": null,
   "metadata": {},
   "outputs": [],
   "source": [
    "img = np.zeros((512, 512))\n",
    "img[50:450, 50:450] = 1  # Create a square\n",
    "spheres_centers, edges, sdf_array = sn.create_SN_graph(\n",
    "    img, minimal_sphere_radius=6, return_sdf=True\n",
    ")\n",
    "\n",
    "graph_im = sn.draw_graph_on_top_of_SDF(sdf_array, spheres_centers, edges)\n",
    "\n",
    "# Create figure with two subplots side by side\n",
    "fig, (ax1, ax2) = plt.subplots(1, 2, figsize=(14, 7))\n",
    "\n",
    "# Plot binary image\n",
    "ax1.imshow(img, cmap=\"binary\")\n",
    "ax1.set_title(\"Binary Image\")\n",
    "\n",
    "# Plot SDF with graph\n",
    "ax2.imshow(graph_im, cmap=\"gray\")\n",
    "ax2.set_title(\"Graph on SDF\")\n",
    "\n",
    "# Print graph statistics in text below\n",
    "print(f\"\"\"\n",
    "Graph Statistics:\n",
    "Number of nodes: {len(spheres_centers)}\n",
    "Number of edges: {len(edges)}\n",
    "\"\"\")\n",
    "\n",
    "# Adjust layout and display\n",
    "plt.tight_layout()\n",
    "plt.show()"
   ]
  }
 ],
 "metadata": {
  "kernelspec": {
   "display_name": "sn-graph-5qBlOgtN-py3.11",
   "language": "python",
   "name": "python3"
  },
  "language_info": {
   "codemirror_mode": {
    "name": "ipython",
    "version": 3
   },
   "file_extension": ".py",
   "mimetype": "text/x-python",
   "name": "python",
   "nbconvert_exporter": "python",
   "pygments_lexer": "ipython3",
   "version": "3.11.7"
  }
 },
 "nbformat": 4,
 "nbformat_minor": 2
}
